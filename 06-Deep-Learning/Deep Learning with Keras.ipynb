{
 "cells": [
  {
   "cell_type": "code",
   "execution_count": 2,
   "id": "933b32c5",
   "metadata": {},
   "outputs": [],
   "source": [
    "import numpy as np"
   ]
  },
  {
   "cell_type": "code",
   "execution_count": 3,
   "id": "67df68c7",
   "metadata": {},
   "outputs": [],
   "source": [
    "from sklearn.datasets import load_iris"
   ]
  },
  {
   "cell_type": "code",
   "execution_count": 4,
   "id": "c5a03b44",
   "metadata": {},
   "outputs": [],
   "source": [
    "iris = load_iris()"
   ]
  },
  {
   "cell_type": "code",
   "execution_count": 5,
   "id": "2c2fec13",
   "metadata": {},
   "outputs": [
    {
     "data": {
      "text/plain": [
       "sklearn.utils.Bunch"
      ]
     },
     "execution_count": 5,
     "metadata": {},
     "output_type": "execute_result"
    }
   ],
   "source": [
    "type(iris)"
   ]
  },
  {
   "cell_type": "code",
   "execution_count": 6,
   "id": "1054436b",
   "metadata": {},
   "outputs": [],
   "source": [
    "X = iris.data"
   ]
  },
  {
   "cell_type": "code",
   "execution_count": 7,
   "id": "18627c5b",
   "metadata": {},
   "outputs": [],
   "source": [
    "#X"
   ]
  },
  {
   "cell_type": "code",
   "execution_count": 8,
   "id": "10650bb8",
   "metadata": {},
   "outputs": [],
   "source": [
    "y = iris.target"
   ]
  },
  {
   "cell_type": "code",
   "execution_count": 9,
   "id": "4cf25dca",
   "metadata": {},
   "outputs": [
    {
     "data": {
      "text/plain": [
       "array([0, 0, 0, 0, 0, 0, 0, 0, 0, 0, 0, 0, 0, 0, 0, 0, 0, 0, 0, 0, 0, 0,\n",
       "       0, 0, 0, 0, 0, 0, 0, 0, 0, 0, 0, 0, 0, 0, 0, 0, 0, 0, 0, 0, 0, 0,\n",
       "       0, 0, 0, 0, 0, 0, 1, 1, 1, 1, 1, 1, 1, 1, 1, 1, 1, 1, 1, 1, 1, 1,\n",
       "       1, 1, 1, 1, 1, 1, 1, 1, 1, 1, 1, 1, 1, 1, 1, 1, 1, 1, 1, 1, 1, 1,\n",
       "       1, 1, 1, 1, 1, 1, 1, 1, 1, 1, 1, 1, 2, 2, 2, 2, 2, 2, 2, 2, 2, 2,\n",
       "       2, 2, 2, 2, 2, 2, 2, 2, 2, 2, 2, 2, 2, 2, 2, 2, 2, 2, 2, 2, 2, 2,\n",
       "       2, 2, 2, 2, 2, 2, 2, 2, 2, 2, 2, 2, 2, 2, 2, 2, 2, 2])"
      ]
     },
     "execution_count": 9,
     "metadata": {},
     "output_type": "execute_result"
    }
   ],
   "source": [
    "y"
   ]
  },
  {
   "cell_type": "code",
   "execution_count": 10,
   "id": "af0e4ef7",
   "metadata": {},
   "outputs": [],
   "source": [
    "# class 0 ---> [1,0,0]\n",
    "# class 1 ---> [0,1,0]\n",
    "# class 2 ---> [0,0,1]"
   ]
  },
  {
   "cell_type": "code",
   "execution_count": 9,
   "id": "5cbc314a",
   "metadata": {},
   "outputs": [],
   "source": [
    "from tensorflow.keras.utils import to_categorical"
   ]
  },
  {
   "cell_type": "code",
   "execution_count": 10,
   "id": "a285a8b4",
   "metadata": {},
   "outputs": [],
   "source": [
    "y = to_categorical(y)"
   ]
  },
  {
   "cell_type": "code",
   "execution_count": 22,
   "id": "b2c83477",
   "metadata": {},
   "outputs": [],
   "source": [
    "#y"
   ]
  },
  {
   "cell_type": "code",
   "execution_count": 11,
   "id": "1862de26",
   "metadata": {},
   "outputs": [],
   "source": [
    "from sklearn.model_selection import train_test_split"
   ]
  },
  {
   "cell_type": "code",
   "execution_count": 12,
   "id": "0a2e5324",
   "metadata": {},
   "outputs": [],
   "source": [
    "X_train, X_test, y_train, y_test = train_test_split(X, y, test_size=0.33, random_state=42)"
   ]
  },
  {
   "cell_type": "code",
   "execution_count": 13,
   "id": "50476fd2",
   "metadata": {},
   "outputs": [],
   "source": [
    "from sklearn.preprocessing import MinMaxScaler"
   ]
  },
  {
   "cell_type": "code",
   "execution_count": 14,
   "id": "340755ef",
   "metadata": {},
   "outputs": [],
   "source": [
    "scaler_object = MinMaxScaler()"
   ]
  },
  {
   "cell_type": "code",
   "execution_count": 15,
   "id": "6d0374c6",
   "metadata": {},
   "outputs": [
    {
     "data": {
      "text/plain": [
       "MinMaxScaler()"
      ]
     },
     "execution_count": 15,
     "metadata": {},
     "output_type": "execute_result"
    }
   ],
   "source": [
    "scaler_object.fit(X_train)"
   ]
  },
  {
   "cell_type": "code",
   "execution_count": 16,
   "id": "05b08237",
   "metadata": {},
   "outputs": [],
   "source": [
    "scaled_X_train = scaler_object.transform(X_train)"
   ]
  },
  {
   "cell_type": "code",
   "execution_count": 17,
   "id": "8c5d2f1d",
   "metadata": {},
   "outputs": [],
   "source": [
    "scaled_X_test = scaler_object.transform(X_test)"
   ]
  },
  {
   "cell_type": "code",
   "execution_count": 31,
   "id": "c730301c",
   "metadata": {},
   "outputs": [],
   "source": [
    "#scaled_X_train"
   ]
  },
  {
   "cell_type": "code",
   "execution_count": 18,
   "id": "8c267635",
   "metadata": {},
   "outputs": [],
   "source": [
    "from keras.models import Sequential\n",
    "from keras.layers import Dense"
   ]
  },
  {
   "cell_type": "code",
   "execution_count": 19,
   "id": "f7fc360d",
   "metadata": {},
   "outputs": [],
   "source": [
    "model = Sequential()\n",
    "model.add(Dense(8,input_dim=4,activation='relu'))\n",
    "model.add(Dense(8,input_dim=4,activation='relu'))\n",
    "model.add(Dense(3,activation='softmax'))\n",
    "model.compile(loss='categorical_crossentropy',optimizer='adam',metrics=['accuracy'])"
   ]
  },
  {
   "cell_type": "code",
   "execution_count": 20,
   "id": "96b092f1",
   "metadata": {},
   "outputs": [
    {
     "name": "stdout",
     "output_type": "stream",
     "text": [
      "Model: \"sequential\"\n",
      "_________________________________________________________________\n",
      " Layer (type)                Output Shape              Param #   \n",
      "=================================================================\n",
      " dense (Dense)               (None, 8)                 40        \n",
      "                                                                 \n",
      " dense_1 (Dense)             (None, 8)                 72        \n",
      "                                                                 \n",
      " dense_2 (Dense)             (None, 3)                 27        \n",
      "                                                                 \n",
      "=================================================================\n",
      "Total params: 139\n",
      "Trainable params: 139\n",
      "Non-trainable params: 0\n",
      "_________________________________________________________________\n"
     ]
    }
   ],
   "source": [
    "model.summary()"
   ]
  },
  {
   "cell_type": "code",
   "execution_count": 21,
   "id": "6ffb2a05",
   "metadata": {},
   "outputs": [
    {
     "name": "stdout",
     "output_type": "stream",
     "text": [
      "Epoch 1/150\n",
      "4/4 - 0s - loss: 1.0968 - accuracy: 0.4000 - 385ms/epoch - 96ms/step\n",
      "Epoch 2/150\n",
      "4/4 - 0s - loss: 1.0945 - accuracy: 0.4200 - 3ms/epoch - 750us/step\n",
      "Epoch 3/150\n",
      "4/4 - 0s - loss: 1.0923 - accuracy: 0.4500 - 3ms/epoch - 747us/step\n",
      "Epoch 4/150\n",
      "4/4 - 0s - loss: 1.0903 - accuracy: 0.4700 - 3ms/epoch - 749us/step\n",
      "Epoch 5/150\n",
      "4/4 - 0s - loss: 1.0884 - accuracy: 0.4800 - 5ms/epoch - 1ms/step\n",
      "Epoch 6/150\n",
      "4/4 - 0s - loss: 1.0866 - accuracy: 0.5000 - 5ms/epoch - 1ms/step\n",
      "Epoch 7/150\n",
      "4/4 - 0s - loss: 1.0850 - accuracy: 0.5000 - 3ms/epoch - 746us/step\n",
      "Epoch 8/150\n",
      "4/4 - 0s - loss: 1.0837 - accuracy: 0.5000 - 3ms/epoch - 742us/step\n",
      "Epoch 9/150\n",
      "4/4 - 0s - loss: 1.0821 - accuracy: 0.5100 - 4ms/epoch - 1ms/step\n",
      "Epoch 10/150\n",
      "4/4 - 0s - loss: 1.0805 - accuracy: 0.5200 - 4ms/epoch - 1ms/step\n",
      "Epoch 11/150\n",
      "4/4 - 0s - loss: 1.0787 - accuracy: 0.5300 - 3ms/epoch - 750us/step\n",
      "Epoch 12/150\n",
      "4/4 - 0s - loss: 1.0771 - accuracy: 0.5500 - 3ms/epoch - 751us/step\n",
      "Epoch 13/150\n",
      "4/4 - 0s - loss: 1.0754 - accuracy: 0.5600 - 4ms/epoch - 1ms/step\n",
      "Epoch 14/150\n",
      "4/4 - 0s - loss: 1.0739 - accuracy: 0.5600 - 4ms/epoch - 1000us/step\n",
      "Epoch 15/150\n",
      "4/4 - 0s - loss: 1.0721 - accuracy: 0.5500 - 3ms/epoch - 750us/step\n",
      "Epoch 16/150\n",
      "4/4 - 0s - loss: 1.0703 - accuracy: 0.5500 - 5ms/epoch - 1ms/step\n",
      "Epoch 17/150\n",
      "4/4 - 0s - loss: 1.0685 - accuracy: 0.5500 - 4ms/epoch - 1000us/step\n",
      "Epoch 18/150\n",
      "4/4 - 0s - loss: 1.0667 - accuracy: 0.5500 - 2ms/epoch - 500us/step\n",
      "Epoch 19/150\n",
      "4/4 - 0s - loss: 1.0648 - accuracy: 0.5400 - 4ms/epoch - 1ms/step\n",
      "Epoch 20/150\n",
      "4/4 - 0s - loss: 1.0628 - accuracy: 0.5600 - 4ms/epoch - 1000us/step\n",
      "Epoch 21/150\n",
      "4/4 - 0s - loss: 1.0609 - accuracy: 0.5600 - 3ms/epoch - 750us/step\n",
      "Epoch 22/150\n",
      "4/4 - 0s - loss: 1.0590 - accuracy: 0.5700 - 3ms/epoch - 750us/step\n",
      "Epoch 23/150\n",
      "4/4 - 0s - loss: 1.0568 - accuracy: 0.5800 - 3ms/epoch - 752us/step\n",
      "Epoch 24/150\n",
      "4/4 - 0s - loss: 1.0545 - accuracy: 0.5900 - 4ms/epoch - 1ms/step\n",
      "Epoch 25/150\n",
      "4/4 - 0s - loss: 1.0522 - accuracy: 0.5900 - 3ms/epoch - 750us/step\n",
      "Epoch 26/150\n",
      "4/4 - 0s - loss: 1.0498 - accuracy: 0.6000 - 3ms/epoch - 750us/step\n",
      "Epoch 27/150\n",
      "4/4 - 0s - loss: 1.0475 - accuracy: 0.6100 - 5ms/epoch - 1ms/step\n",
      "Epoch 28/150\n",
      "4/4 - 0s - loss: 1.0450 - accuracy: 0.6100 - 3ms/epoch - 750us/step\n",
      "Epoch 29/150\n",
      "4/4 - 0s - loss: 1.0423 - accuracy: 0.6100 - 2ms/epoch - 500us/step\n",
      "Epoch 30/150\n",
      "4/4 - 0s - loss: 1.0397 - accuracy: 0.6100 - 4ms/epoch - 1000us/step\n",
      "Epoch 31/150\n",
      "4/4 - 0s - loss: 1.0367 - accuracy: 0.6100 - 3ms/epoch - 750us/step\n",
      "Epoch 32/150\n",
      "4/4 - 0s - loss: 1.0339 - accuracy: 0.5800 - 3ms/epoch - 750us/step\n",
      "Epoch 33/150\n",
      "4/4 - 0s - loss: 1.0308 - accuracy: 0.5800 - 3ms/epoch - 751us/step\n",
      "Epoch 34/150\n",
      "4/4 - 0s - loss: 1.0279 - accuracy: 0.5800 - 5ms/epoch - 1ms/step\n",
      "Epoch 35/150\n",
      "4/4 - 0s - loss: 1.0249 - accuracy: 0.5800 - 4ms/epoch - 1000us/step\n",
      "Epoch 36/150\n",
      "4/4 - 0s - loss: 1.0223 - accuracy: 0.5800 - 3ms/epoch - 750us/step\n",
      "Epoch 37/150\n",
      "4/4 - 0s - loss: 1.0192 - accuracy: 0.5700 - 4ms/epoch - 1ms/step\n",
      "Epoch 38/150\n",
      "4/4 - 0s - loss: 1.0159 - accuracy: 0.6100 - 4ms/epoch - 1000us/step\n",
      "Epoch 39/150\n",
      "4/4 - 0s - loss: 1.0126 - accuracy: 0.6100 - 3ms/epoch - 750us/step\n",
      "Epoch 40/150\n",
      "4/4 - 0s - loss: 1.0090 - accuracy: 0.6100 - 3ms/epoch - 750us/step\n",
      "Epoch 41/150\n",
      "4/4 - 0s - loss: 1.0055 - accuracy: 0.6100 - 5ms/epoch - 1ms/step\n",
      "Epoch 42/150\n",
      "4/4 - 0s - loss: 1.0016 - accuracy: 0.6100 - 3ms/epoch - 750us/step\n",
      "Epoch 43/150\n",
      "4/4 - 0s - loss: 0.9977 - accuracy: 0.6200 - 2ms/epoch - 500us/step\n",
      "Epoch 44/150\n",
      "4/4 - 0s - loss: 0.9937 - accuracy: 0.6400 - 3ms/epoch - 751us/step\n",
      "Epoch 45/150\n",
      "4/4 - 0s - loss: 0.9898 - accuracy: 0.6400 - 4ms/epoch - 1ms/step\n",
      "Epoch 46/150\n",
      "4/4 - 0s - loss: 0.9857 - accuracy: 0.6400 - 3ms/epoch - 750us/step\n",
      "Epoch 47/150\n",
      "4/4 - 0s - loss: 0.9817 - accuracy: 0.6400 - 3ms/epoch - 750us/step\n",
      "Epoch 48/150\n",
      "4/4 - 0s - loss: 0.9774 - accuracy: 0.6400 - 4ms/epoch - 1ms/step\n",
      "Epoch 49/150\n",
      "4/4 - 0s - loss: 0.9731 - accuracy: 0.6500 - 4ms/epoch - 1ms/step\n",
      "Epoch 50/150\n",
      "4/4 - 0s - loss: 0.9687 - accuracy: 0.6500 - 3ms/epoch - 750us/step\n",
      "Epoch 51/150\n",
      "4/4 - 0s - loss: 0.9641 - accuracy: 0.6500 - 4ms/epoch - 1ms/step\n",
      "Epoch 52/150\n",
      "4/4 - 0s - loss: 0.9590 - accuracy: 0.6500 - 4ms/epoch - 999us/step\n",
      "Epoch 53/150\n",
      "4/4 - 0s - loss: 0.9539 - accuracy: 0.6600 - 3ms/epoch - 750us/step\n",
      "Epoch 54/150\n",
      "4/4 - 0s - loss: 0.9488 - accuracy: 0.6600 - 3ms/epoch - 750us/step\n",
      "Epoch 55/150\n",
      "4/4 - 0s - loss: 0.9436 - accuracy: 0.6600 - 5ms/epoch - 1ms/step\n",
      "Epoch 56/150\n",
      "4/4 - 0s - loss: 0.9386 - accuracy: 0.6600 - 5ms/epoch - 1ms/step\n",
      "Epoch 57/150\n",
      "4/4 - 0s - loss: 0.9334 - accuracy: 0.6600 - 3ms/epoch - 750us/step\n",
      "Epoch 58/150\n",
      "4/4 - 0s - loss: 0.9283 - accuracy: 0.6600 - 3ms/epoch - 750us/step\n",
      "Epoch 59/150\n",
      "4/4 - 0s - loss: 0.9227 - accuracy: 0.6600 - 4ms/epoch - 997us/step\n",
      "Epoch 60/150\n",
      "4/4 - 0s - loss: 0.9166 - accuracy: 0.6600 - 3ms/epoch - 750us/step\n",
      "Epoch 61/150\n",
      "4/4 - 0s - loss: 0.9109 - accuracy: 0.6600 - 3ms/epoch - 750us/step\n",
      "Epoch 62/150\n",
      "4/4 - 0s - loss: 0.9046 - accuracy: 0.6600 - 4ms/epoch - 999us/step\n",
      "Epoch 63/150\n",
      "4/4 - 0s - loss: 0.8987 - accuracy: 0.6600 - 3ms/epoch - 750us/step\n",
      "Epoch 64/150\n",
      "4/4 - 0s - loss: 0.8928 - accuracy: 0.6600 - 3ms/epoch - 635us/step\n",
      "Epoch 65/150\n",
      "4/4 - 0s - loss: 0.8863 - accuracy: 0.6600 - 4ms/epoch - 1000us/step\n",
      "Epoch 66/150\n",
      "4/4 - 0s - loss: 0.8798 - accuracy: 0.6600 - 4ms/epoch - 1000us/step\n",
      "Epoch 67/150\n",
      "4/4 - 0s - loss: 0.8731 - accuracy: 0.6600 - 3ms/epoch - 750us/step\n",
      "Epoch 68/150\n",
      "4/4 - 0s - loss: 0.8659 - accuracy: 0.6600 - 3ms/epoch - 750us/step\n",
      "Epoch 69/150\n",
      "4/4 - 0s - loss: 0.8591 - accuracy: 0.6600 - 4ms/epoch - 1ms/step\n",
      "Epoch 70/150\n",
      "4/4 - 0s - loss: 0.8523 - accuracy: 0.6600 - 4ms/epoch - 1000us/step\n",
      "Epoch 71/150\n",
      "4/4 - 0s - loss: 0.8457 - accuracy: 0.6600 - 3ms/epoch - 750us/step\n",
      "Epoch 72/150\n",
      "4/4 - 0s - loss: 0.8389 - accuracy: 0.6600 - 2ms/epoch - 500us/step\n",
      "Epoch 73/150\n",
      "4/4 - 0s - loss: 0.8324 - accuracy: 0.6600 - 4ms/epoch - 1ms/step\n",
      "Epoch 74/150\n",
      "4/4 - 0s - loss: 0.8259 - accuracy: 0.6600 - 4ms/epoch - 999us/step\n",
      "Epoch 75/150\n",
      "4/4 - 0s - loss: 0.8195 - accuracy: 0.6600 - 2ms/epoch - 500us/step\n",
      "Epoch 76/150\n",
      "4/4 - 0s - loss: 0.8132 - accuracy: 0.6600 - 2ms/epoch - 500us/step\n",
      "Epoch 77/150\n",
      "4/4 - 0s - loss: 0.8072 - accuracy: 0.6600 - 4ms/epoch - 1ms/step\n",
      "Epoch 78/150\n",
      "4/4 - 0s - loss: 0.8006 - accuracy: 0.6600 - 4ms/epoch - 1000us/step\n",
      "Epoch 79/150\n",
      "4/4 - 0s - loss: 0.7941 - accuracy: 0.6600 - 3ms/epoch - 750us/step\n",
      "Epoch 80/150\n",
      "4/4 - 0s - loss: 0.7874 - accuracy: 0.6600 - 4ms/epoch - 1ms/step\n",
      "Epoch 81/150\n",
      "4/4 - 0s - loss: 0.7808 - accuracy: 0.6600 - 3ms/epoch - 750us/step\n",
      "Epoch 82/150\n",
      "4/4 - 0s - loss: 0.7748 - accuracy: 0.6600 - 3ms/epoch - 750us/step\n",
      "Epoch 83/150\n",
      "4/4 - 0s - loss: 0.7685 - accuracy: 0.6600 - 3ms/epoch - 751us/step\n",
      "Epoch 84/150\n",
      "4/4 - 0s - loss: 0.7624 - accuracy: 0.6600 - 4ms/epoch - 996us/step\n",
      "Epoch 85/150\n",
      "4/4 - 0s - loss: 0.7565 - accuracy: 0.6600 - 2ms/epoch - 500us/step\n",
      "Epoch 86/150\n",
      "4/4 - 0s - loss: 0.7507 - accuracy: 0.6600 - 2ms/epoch - 500us/step\n",
      "Epoch 87/150\n",
      "4/4 - 0s - loss: 0.7445 - accuracy: 0.6600 - 3ms/epoch - 751us/step\n",
      "Epoch 88/150\n",
      "4/4 - 0s - loss: 0.7388 - accuracy: 0.6600 - 4ms/epoch - 999us/step\n",
      "Epoch 89/150\n",
      "4/4 - 0s - loss: 0.7332 - accuracy: 0.6600 - 3ms/epoch - 750us/step\n",
      "Epoch 90/150\n",
      "4/4 - 0s - loss: 0.7275 - accuracy: 0.6600 - 2ms/epoch - 500us/step\n",
      "Epoch 91/150\n",
      "4/4 - 0s - loss: 0.7216 - accuracy: 0.6600 - 3ms/epoch - 750us/step\n",
      "Epoch 92/150\n",
      "4/4 - 0s - loss: 0.7157 - accuracy: 0.6600 - 3ms/epoch - 750us/step\n",
      "Epoch 93/150\n",
      "4/4 - 0s - loss: 0.7103 - accuracy: 0.6600 - 3ms/epoch - 750us/step\n",
      "Epoch 94/150\n",
      "4/4 - 0s - loss: 0.7049 - accuracy: 0.6600 - 3ms/epoch - 750us/step\n",
      "Epoch 95/150\n",
      "4/4 - 0s - loss: 0.6996 - accuracy: 0.6600 - 3ms/epoch - 747us/step\n",
      "Epoch 96/150\n",
      "4/4 - 0s - loss: 0.6945 - accuracy: 0.6600 - 4ms/epoch - 1ms/step\n",
      "Epoch 97/150\n",
      "4/4 - 0s - loss: 0.6896 - accuracy: 0.6600 - 3ms/epoch - 750us/step\n",
      "Epoch 98/150\n",
      "4/4 - 0s - loss: 0.6848 - accuracy: 0.6600 - 3ms/epoch - 750us/step\n",
      "Epoch 99/150\n",
      "4/4 - 0s - loss: 0.6804 - accuracy: 0.6600 - 3ms/epoch - 750us/step\n",
      "Epoch 100/150\n",
      "4/4 - 0s - loss: 0.6759 - accuracy: 0.6600 - 3ms/epoch - 745us/step\n",
      "Epoch 101/150\n",
      "4/4 - 0s - loss: 0.6714 - accuracy: 0.6600 - 3ms/epoch - 750us/step\n",
      "Epoch 102/150\n",
      "4/4 - 0s - loss: 0.6671 - accuracy: 0.6600 - 5ms/epoch - 1ms/step\n"
     ]
    },
    {
     "name": "stdout",
     "output_type": "stream",
     "text": [
      "Epoch 103/150\n",
      "4/4 - 0s - loss: 0.6628 - accuracy: 0.6600 - 4ms/epoch - 999us/step\n",
      "Epoch 104/150\n",
      "4/4 - 0s - loss: 0.6584 - accuracy: 0.6600 - 3ms/epoch - 750us/step\n",
      "Epoch 105/150\n",
      "4/4 - 0s - loss: 0.6538 - accuracy: 0.6600 - 4ms/epoch - 1ms/step\n",
      "Epoch 106/150\n",
      "4/4 - 0s - loss: 0.6499 - accuracy: 0.6600 - 4ms/epoch - 1000us/step\n",
      "Epoch 107/150\n",
      "4/4 - 0s - loss: 0.6460 - accuracy: 0.6600 - 5ms/epoch - 1ms/step\n",
      "Epoch 108/150\n",
      "4/4 - 0s - loss: 0.6422 - accuracy: 0.6600 - 5ms/epoch - 1ms/step\n",
      "Epoch 109/150\n",
      "4/4 - 0s - loss: 0.6385 - accuracy: 0.6600 - 4ms/epoch - 999us/step\n",
      "Epoch 110/150\n",
      "4/4 - 0s - loss: 0.6348 - accuracy: 0.6600 - 3ms/epoch - 750us/step\n",
      "Epoch 111/150\n",
      "4/4 - 0s - loss: 0.6310 - accuracy: 0.6600 - 4ms/epoch - 1ms/step\n",
      "Epoch 112/150\n",
      "4/4 - 0s - loss: 0.6272 - accuracy: 0.6600 - 4ms/epoch - 999us/step\n",
      "Epoch 113/150\n",
      "4/4 - 0s - loss: 0.6236 - accuracy: 0.6600 - 3ms/epoch - 749us/step\n",
      "Epoch 114/150\n",
      "4/4 - 0s - loss: 0.6204 - accuracy: 0.6600 - 3ms/epoch - 750us/step\n",
      "Epoch 115/150\n",
      "4/4 - 0s - loss: 0.6169 - accuracy: 0.6600 - 4ms/epoch - 999us/step\n",
      "Epoch 116/150\n",
      "4/4 - 0s - loss: 0.6137 - accuracy: 0.6600 - 3ms/epoch - 749us/step\n",
      "Epoch 117/150\n",
      "4/4 - 0s - loss: 0.6107 - accuracy: 0.6600 - 3ms/epoch - 750us/step\n",
      "Epoch 118/150\n",
      "4/4 - 0s - loss: 0.6075 - accuracy: 0.6600 - 4ms/epoch - 1000us/step\n",
      "Epoch 119/150\n",
      "4/4 - 0s - loss: 0.6042 - accuracy: 0.6600 - 4ms/epoch - 1000us/step\n",
      "Epoch 120/150\n",
      "4/4 - 0s - loss: 0.6010 - accuracy: 0.6600 - 4ms/epoch - 1000us/step\n",
      "Epoch 121/150\n",
      "4/4 - 0s - loss: 0.5978 - accuracy: 0.6600 - 4ms/epoch - 999us/step\n",
      "Epoch 122/150\n",
      "4/4 - 0s - loss: 0.5949 - accuracy: 0.6600 - 4ms/epoch - 1000us/step\n",
      "Epoch 123/150\n",
      "4/4 - 0s - loss: 0.5922 - accuracy: 0.6600 - 3ms/epoch - 750us/step\n",
      "Epoch 124/150\n",
      "4/4 - 0s - loss: 0.5896 - accuracy: 0.6600 - 5ms/epoch - 1ms/step\n",
      "Epoch 125/150\n",
      "4/4 - 0s - loss: 0.5869 - accuracy: 0.6600 - 3ms/epoch - 750us/step\n",
      "Epoch 126/150\n",
      "4/4 - 0s - loss: 0.5842 - accuracy: 0.6600 - 2ms/epoch - 500us/step\n",
      "Epoch 127/150\n",
      "4/4 - 0s - loss: 0.5813 - accuracy: 0.6600 - 3ms/epoch - 750us/step\n",
      "Epoch 128/150\n",
      "4/4 - 0s - loss: 0.5786 - accuracy: 0.6600 - 3ms/epoch - 749us/step\n",
      "Epoch 129/150\n",
      "4/4 - 0s - loss: 0.5758 - accuracy: 0.6600 - 3ms/epoch - 750us/step\n",
      "Epoch 130/150\n",
      "4/4 - 0s - loss: 0.5734 - accuracy: 0.6600 - 3ms/epoch - 750us/step\n",
      "Epoch 131/150\n",
      "4/4 - 0s - loss: 0.5702 - accuracy: 0.6600 - 3ms/epoch - 750us/step\n",
      "Epoch 132/150\n",
      "4/4 - 0s - loss: 0.5678 - accuracy: 0.6600 - 4ms/epoch - 1000us/step\n",
      "Epoch 133/150\n",
      "4/4 - 0s - loss: 0.5650 - accuracy: 0.6600 - 2ms/epoch - 500us/step\n",
      "Epoch 134/150\n",
      "4/4 - 0s - loss: 0.5625 - accuracy: 0.6600 - 4ms/epoch - 1000us/step\n",
      "Epoch 135/150\n",
      "4/4 - 0s - loss: 0.5599 - accuracy: 0.6600 - 3ms/epoch - 750us/step\n",
      "Epoch 136/150\n",
      "4/4 - 0s - loss: 0.5574 - accuracy: 0.6600 - 3ms/epoch - 750us/step\n",
      "Epoch 137/150\n",
      "4/4 - 0s - loss: 0.5552 - accuracy: 0.6600 - 3ms/epoch - 750us/step\n",
      "Epoch 138/150\n",
      "4/4 - 0s - loss: 0.5525 - accuracy: 0.6600 - 3ms/epoch - 750us/step\n",
      "Epoch 139/150\n",
      "4/4 - 0s - loss: 0.5501 - accuracy: 0.6600 - 4ms/epoch - 1ms/step\n",
      "Epoch 140/150\n",
      "4/4 - 0s - loss: 0.5477 - accuracy: 0.6600 - 3ms/epoch - 749us/step\n",
      "Epoch 141/150\n",
      "4/4 - 0s - loss: 0.5455 - accuracy: 0.6600 - 3ms/epoch - 750us/step\n",
      "Epoch 142/150\n",
      "4/4 - 0s - loss: 0.5433 - accuracy: 0.6600 - 3ms/epoch - 750us/step\n",
      "Epoch 143/150\n",
      "4/4 - 0s - loss: 0.5409 - accuracy: 0.6600 - 4ms/epoch - 1ms/step\n",
      "Epoch 144/150\n",
      "4/4 - 0s - loss: 0.5385 - accuracy: 0.6600 - 3ms/epoch - 750us/step\n",
      "Epoch 145/150\n",
      "4/4 - 0s - loss: 0.5364 - accuracy: 0.6600 - 3ms/epoch - 750us/step\n",
      "Epoch 146/150\n",
      "4/4 - 0s - loss: 0.5342 - accuracy: 0.6600 - 3ms/epoch - 750us/step\n",
      "Epoch 147/150\n",
      "4/4 - 0s - loss: 0.5321 - accuracy: 0.6600 - 3ms/epoch - 751us/step\n",
      "Epoch 148/150\n",
      "4/4 - 0s - loss: 0.5299 - accuracy: 0.6600 - 3ms/epoch - 750us/step\n",
      "Epoch 149/150\n",
      "4/4 - 0s - loss: 0.5279 - accuracy: 0.6600 - 3ms/epoch - 750us/step\n",
      "Epoch 150/150\n",
      "4/4 - 0s - loss: 0.5256 - accuracy: 0.6600 - 2ms/epoch - 500us/step\n"
     ]
    },
    {
     "data": {
      "text/plain": [
       "<keras.callbacks.History at 0x204b6b3d670>"
      ]
     },
     "execution_count": 21,
     "metadata": {},
     "output_type": "execute_result"
    }
   ],
   "source": [
    "model.fit(scaled_X_train, y_train, epochs=150,verbose=2)"
   ]
  },
  {
   "cell_type": "code",
   "execution_count": 23,
   "id": "61473401",
   "metadata": {},
   "outputs": [
    {
     "data": {
      "text/plain": [
       "array([[0.04724993, 0.51226586, 0.44048423],\n",
       "       [0.95841885, 0.02213687, 0.01944424],\n",
       "       [0.02072101, 0.5218592 , 0.45741978],\n",
       "       [0.05837749, 0.5134491 , 0.42817342],\n",
       "       [0.03389582, 0.50031316, 0.46579093],\n",
       "       [0.9243793 , 0.03975258, 0.03586812],\n",
       "       [0.15032521, 0.49478602, 0.35488883],\n",
       "       [0.03421157, 0.49988833, 0.46590006],\n",
       "       [0.04547441, 0.4860781 , 0.4684475 ],\n",
       "       [0.07935195, 0.50885105, 0.41179693],\n",
       "       [0.04084786, 0.51395804, 0.44519413],\n",
       "       [0.922271  , 0.04044768, 0.03728136],\n",
       "       [0.95243126, 0.02480081, 0.02276795],\n",
       "       [0.9281357 , 0.0376959 , 0.03416844],\n",
       "       [0.9819709 , 0.00936461, 0.00866459],\n",
       "       [0.07633448, 0.53403807, 0.3896275 ],\n",
       "       [0.03150697, 0.5036122 , 0.46488082],\n",
       "       [0.07043467, 0.5010102 , 0.4285552 ],\n",
       "       [0.07058225, 0.5157329 , 0.41368493],\n",
       "       [0.03468698, 0.49925336, 0.46605968],\n",
       "       [0.9437821 , 0.02927839, 0.02693955],\n",
       "       [0.04837761, 0.51157427, 0.44004807],\n",
       "       [0.9477973 , 0.02739311, 0.02480961],\n",
       "       [0.03413992, 0.4999845 , 0.46587548],\n",
       "       [0.01763107, 0.5272438 , 0.4551251 ],\n",
       "       [0.03533027, 0.4984027 , 0.466267  ],\n",
       "       [0.03052382, 0.50501686, 0.46445933],\n",
       "       [0.02855945, 0.5079149 , 0.46352562],\n",
       "       [0.90645605, 0.04844764, 0.04509642],\n",
       "       [0.9237714 , 0.04004742, 0.03618114],\n",
       "       [0.98226637, 0.0088413 , 0.00889229],\n",
       "       [0.99248827, 0.00393948, 0.00357227],\n",
       "       [0.05006598, 0.52024657, 0.42968744],\n",
       "       [0.9626691 , 0.01944915, 0.01788177],\n",
       "       [0.96080875, 0.0196529 , 0.01953838],\n",
       "       [0.04051216, 0.49187538, 0.46761242],\n",
       "       [0.06932408, 0.5290722 , 0.4016037 ],\n",
       "       [0.96081847, 0.02056435, 0.01861724],\n",
       "       [0.9766654 , 0.01205492, 0.01127976],\n",
       "       [0.9921137 , 0.00411908, 0.00376718],\n",
       "       [0.04579608, 0.49614117, 0.45806286],\n",
       "       [0.12956649, 0.5276531 , 0.3427804 ],\n",
       "       [0.04090755, 0.5159242 , 0.44316822],\n",
       "       [0.9829563 , 0.00883488, 0.0082089 ],\n",
       "       [0.97066724, 0.01541607, 0.0139167 ],\n",
       "       [0.07579323, 0.49754572, 0.42666104],\n",
       "       [0.03754685, 0.5032385 , 0.45921472],\n",
       "       [0.03524498, 0.5127958 , 0.45195913],\n",
       "       [0.0458532 , 0.513668  , 0.44047883],\n",
       "       [0.02443355, 0.5144701 , 0.46109632]], dtype=float32)"
      ]
     },
     "execution_count": 23,
     "metadata": {},
     "output_type": "execute_result"
    }
   ],
   "source": [
    "model.predict(scaled_X_test)"
   ]
  },
  {
   "cell_type": "code",
   "execution_count": 24,
   "id": "1f2e184a",
   "metadata": {},
   "outputs": [
    {
     "data": {
      "text/plain": [
       "array([1, 0, 1, 1, 1, 0, 1, 1, 1, 1, 1, 0, 0, 0, 0, 1, 1, 1, 1, 1, 0, 1,\n",
       "       0, 1, 1, 1, 1, 1, 0, 0, 0, 0, 1, 0, 0, 1, 1, 0, 0, 0, 1, 1, 1, 0,\n",
       "       0, 1, 1, 1, 1, 1], dtype=int64)"
      ]
     },
     "execution_count": 24,
     "metadata": {},
     "output_type": "execute_result"
    }
   ],
   "source": [
    "np.argmax(model.predict(scaled_X_test), axis=-1)"
   ]
  },
  {
   "cell_type": "code",
   "execution_count": null,
   "id": "959bc103",
   "metadata": {},
   "outputs": [],
   "source": []
  },
  {
   "cell_type": "code",
   "execution_count": 25,
   "id": "28c54156",
   "metadata": {},
   "outputs": [],
   "source": [
    "predictions = model.predict(scaled_X_test)\n"
   ]
  },
  {
   "cell_type": "code",
   "execution_count": 38,
   "id": "b43cbb22",
   "metadata": {},
   "outputs": [
    {
     "data": {
      "text/plain": [
       "array([[0.04724993, 0.51226586, 0.44048423],\n",
       "       [0.95841885, 0.02213687, 0.01944424],\n",
       "       [0.02072101, 0.5218592 , 0.45741978],\n",
       "       [0.05837749, 0.5134491 , 0.42817342],\n",
       "       [0.03389582, 0.50031316, 0.46579093],\n",
       "       [0.9243793 , 0.03975258, 0.03586812],\n",
       "       [0.15032521, 0.49478602, 0.35488883],\n",
       "       [0.03421157, 0.49988833, 0.46590006],\n",
       "       [0.04547441, 0.4860781 , 0.4684475 ],\n",
       "       [0.07935195, 0.50885105, 0.41179693],\n",
       "       [0.04084786, 0.51395804, 0.44519413],\n",
       "       [0.922271  , 0.04044768, 0.03728136],\n",
       "       [0.95243126, 0.02480081, 0.02276795],\n",
       "       [0.9281357 , 0.0376959 , 0.03416844],\n",
       "       [0.9819709 , 0.00936461, 0.00866459],\n",
       "       [0.07633448, 0.53403807, 0.3896275 ],\n",
       "       [0.03150697, 0.5036122 , 0.46488082],\n",
       "       [0.07043467, 0.5010102 , 0.4285552 ],\n",
       "       [0.07058225, 0.5157329 , 0.41368493],\n",
       "       [0.03468698, 0.49925336, 0.46605968],\n",
       "       [0.9437821 , 0.02927839, 0.02693955],\n",
       "       [0.04837761, 0.51157427, 0.44004807],\n",
       "       [0.9477973 , 0.02739311, 0.02480961],\n",
       "       [0.03413992, 0.4999845 , 0.46587548],\n",
       "       [0.01763107, 0.5272438 , 0.4551251 ],\n",
       "       [0.03533027, 0.4984027 , 0.466267  ],\n",
       "       [0.03052382, 0.50501686, 0.46445933],\n",
       "       [0.02855945, 0.5079149 , 0.46352562],\n",
       "       [0.90645605, 0.04844764, 0.04509642],\n",
       "       [0.9237714 , 0.04004742, 0.03618114],\n",
       "       [0.98226637, 0.0088413 , 0.00889229],\n",
       "       [0.99248827, 0.00393948, 0.00357227],\n",
       "       [0.05006598, 0.52024657, 0.42968744],\n",
       "       [0.9626691 , 0.01944915, 0.01788177],\n",
       "       [0.96080875, 0.0196529 , 0.01953838],\n",
       "       [0.04051216, 0.49187538, 0.46761242],\n",
       "       [0.06932408, 0.5290722 , 0.4016037 ],\n",
       "       [0.96081847, 0.02056435, 0.01861724],\n",
       "       [0.9766654 , 0.01205492, 0.01127976],\n",
       "       [0.9921137 , 0.00411908, 0.00376718],\n",
       "       [0.04579608, 0.49614117, 0.45806286],\n",
       "       [0.12956649, 0.5276531 , 0.3427804 ],\n",
       "       [0.04090755, 0.5159242 , 0.44316822],\n",
       "       [0.9829563 , 0.00883488, 0.0082089 ],\n",
       "       [0.97066724, 0.01541607, 0.0139167 ],\n",
       "       [0.07579323, 0.49754572, 0.42666104],\n",
       "       [0.03754685, 0.5032385 , 0.45921472],\n",
       "       [0.03524498, 0.5127958 , 0.45195913],\n",
       "       [0.0458532 , 0.513668  , 0.44047883],\n",
       "       [0.02443355, 0.5144701 , 0.46109632]], dtype=float32)"
      ]
     },
     "execution_count": 38,
     "metadata": {},
     "output_type": "execute_result"
    }
   ],
   "source": [
    "# Output is the same as y_test.argmax\n",
    "predictions"
   ]
  },
  {
   "cell_type": "code",
   "execution_count": 34,
   "id": "a5d5abba",
   "metadata": {},
   "outputs": [
    {
     "data": {
      "text/plain": [
       "array([[0, 0, 0],\n",
       "       [0, 0, 0],\n",
       "       [0, 0, 0],\n",
       "       [0, 0, 0],\n",
       "       [0, 0, 0],\n",
       "       [0, 0, 0],\n",
       "       [0, 0, 0],\n",
       "       [0, 0, 0],\n",
       "       [0, 0, 0],\n",
       "       [0, 0, 0],\n",
       "       [0, 0, 0],\n",
       "       [0, 0, 0],\n",
       "       [0, 0, 0],\n",
       "       [0, 0, 0],\n",
       "       [0, 0, 0],\n",
       "       [0, 0, 0],\n",
       "       [0, 0, 0],\n",
       "       [0, 0, 0],\n",
       "       [0, 0, 0],\n",
       "       [0, 0, 0],\n",
       "       [0, 0, 0],\n",
       "       [0, 0, 0],\n",
       "       [0, 0, 0],\n",
       "       [0, 0, 0],\n",
       "       [0, 0, 0],\n",
       "       [0, 0, 0],\n",
       "       [0, 0, 0],\n",
       "       [0, 0, 0],\n",
       "       [0, 0, 0],\n",
       "       [0, 0, 0],\n",
       "       [0, 0, 0],\n",
       "       [0, 0, 0],\n",
       "       [0, 0, 0],\n",
       "       [0, 0, 0],\n",
       "       [0, 0, 0],\n",
       "       [0, 0, 0],\n",
       "       [0, 0, 0],\n",
       "       [0, 0, 0],\n",
       "       [0, 0, 0],\n",
       "       [0, 0, 0],\n",
       "       [0, 0, 0],\n",
       "       [0, 0, 0],\n",
       "       [0, 0, 0],\n",
       "       [0, 0, 0],\n",
       "       [0, 0, 0],\n",
       "       [0, 0, 0],\n",
       "       [0, 0, 0],\n",
       "       [0, 0, 0],\n",
       "       [0, 0, 0],\n",
       "       [0, 0, 0]])"
      ]
     },
     "execution_count": 34,
     "metadata": {},
     "output_type": "execute_result"
    }
   ],
   "source": [
    "predictions.astype(int)"
   ]
  },
  {
   "cell_type": "code",
   "execution_count": 35,
   "id": "e5573057",
   "metadata": {},
   "outputs": [
    {
     "data": {
      "text/plain": [
       "array([1, 0, 2, 1, 1, 0, 1, 2, 1, 1, 2, 0, 0, 0, 0, 1, 2, 1, 1, 2, 0, 2,\n",
       "       0, 2, 2, 2, 2, 2, 0, 0, 0, 0, 1, 0, 0, 2, 1, 0, 0, 0, 2, 1, 1, 0,\n",
       "       0, 1, 2, 2, 1, 2], dtype=int64)"
      ]
     },
     "execution_count": 35,
     "metadata": {},
     "output_type": "execute_result"
    }
   ],
   "source": [
    "y_test.argmax(axis=1)"
   ]
  },
  {
   "cell_type": "code",
   "execution_count": 36,
   "id": "fd638456",
   "metadata": {},
   "outputs": [],
   "source": [
    "from sklearn.metrics import confusion_matrix,classification_report"
   ]
  },
  {
   "cell_type": "code",
   "execution_count": 37,
   "id": "e78fc81e",
   "metadata": {},
   "outputs": [
    {
     "ename": "ValueError",
     "evalue": "Classification metrics can't handle a mix of multiclass and continuous-multioutput targets",
     "output_type": "error",
     "traceback": [
      "\u001b[1;31m---------------------------------------------------------------------------\u001b[0m",
      "\u001b[1;31mValueError\u001b[0m                                Traceback (most recent call last)",
      "\u001b[1;32m<ipython-input-37-aca8b94b79af>\u001b[0m in \u001b[0;36m<module>\u001b[1;34m\u001b[0m\n\u001b[1;32m----> 1\u001b[1;33m \u001b[0mconfusion_matrix\u001b[0m\u001b[1;33m(\u001b[0m\u001b[0my_test\u001b[0m\u001b[1;33m.\u001b[0m\u001b[0margmax\u001b[0m\u001b[1;33m(\u001b[0m\u001b[0maxis\u001b[0m\u001b[1;33m=\u001b[0m\u001b[1;36m1\u001b[0m\u001b[1;33m)\u001b[0m\u001b[1;33m,\u001b[0m\u001b[0mpredictions\u001b[0m\u001b[1;33m)\u001b[0m\u001b[1;33m\u001b[0m\u001b[1;33m\u001b[0m\u001b[0m\n\u001b[0m",
      "\u001b[1;32m~\\anaconda3\\lib\\site-packages\\sklearn\\utils\\validation.py\u001b[0m in \u001b[0;36minner_f\u001b[1;34m(*args, **kwargs)\u001b[0m\n\u001b[0;32m     61\u001b[0m             \u001b[0mextra_args\u001b[0m \u001b[1;33m=\u001b[0m \u001b[0mlen\u001b[0m\u001b[1;33m(\u001b[0m\u001b[0margs\u001b[0m\u001b[1;33m)\u001b[0m \u001b[1;33m-\u001b[0m \u001b[0mlen\u001b[0m\u001b[1;33m(\u001b[0m\u001b[0mall_args\u001b[0m\u001b[1;33m)\u001b[0m\u001b[1;33m\u001b[0m\u001b[1;33m\u001b[0m\u001b[0m\n\u001b[0;32m     62\u001b[0m             \u001b[1;32mif\u001b[0m \u001b[0mextra_args\u001b[0m \u001b[1;33m<=\u001b[0m \u001b[1;36m0\u001b[0m\u001b[1;33m:\u001b[0m\u001b[1;33m\u001b[0m\u001b[1;33m\u001b[0m\u001b[0m\n\u001b[1;32m---> 63\u001b[1;33m                 \u001b[1;32mreturn\u001b[0m \u001b[0mf\u001b[0m\u001b[1;33m(\u001b[0m\u001b[1;33m*\u001b[0m\u001b[0margs\u001b[0m\u001b[1;33m,\u001b[0m \u001b[1;33m**\u001b[0m\u001b[0mkwargs\u001b[0m\u001b[1;33m)\u001b[0m\u001b[1;33m\u001b[0m\u001b[1;33m\u001b[0m\u001b[0m\n\u001b[0m\u001b[0;32m     64\u001b[0m \u001b[1;33m\u001b[0m\u001b[0m\n\u001b[0;32m     65\u001b[0m             \u001b[1;31m# extra_args > 0\u001b[0m\u001b[1;33m\u001b[0m\u001b[1;33m\u001b[0m\u001b[1;33m\u001b[0m\u001b[0m\n",
      "\u001b[1;32m~\\anaconda3\\lib\\site-packages\\sklearn\\metrics\\_classification.py\u001b[0m in \u001b[0;36mconfusion_matrix\u001b[1;34m(y_true, y_pred, labels, sample_weight, normalize)\u001b[0m\n\u001b[0;32m    294\u001b[0m \u001b[1;33m\u001b[0m\u001b[0m\n\u001b[0;32m    295\u001b[0m     \"\"\"\n\u001b[1;32m--> 296\u001b[1;33m     \u001b[0my_type\u001b[0m\u001b[1;33m,\u001b[0m \u001b[0my_true\u001b[0m\u001b[1;33m,\u001b[0m \u001b[0my_pred\u001b[0m \u001b[1;33m=\u001b[0m \u001b[0m_check_targets\u001b[0m\u001b[1;33m(\u001b[0m\u001b[0my_true\u001b[0m\u001b[1;33m,\u001b[0m \u001b[0my_pred\u001b[0m\u001b[1;33m)\u001b[0m\u001b[1;33m\u001b[0m\u001b[1;33m\u001b[0m\u001b[0m\n\u001b[0m\u001b[0;32m    297\u001b[0m     \u001b[1;32mif\u001b[0m \u001b[0my_type\u001b[0m \u001b[1;32mnot\u001b[0m \u001b[1;32min\u001b[0m \u001b[1;33m(\u001b[0m\u001b[1;34m\"binary\"\u001b[0m\u001b[1;33m,\u001b[0m \u001b[1;34m\"multiclass\"\u001b[0m\u001b[1;33m)\u001b[0m\u001b[1;33m:\u001b[0m\u001b[1;33m\u001b[0m\u001b[1;33m\u001b[0m\u001b[0m\n\u001b[0;32m    298\u001b[0m         \u001b[1;32mraise\u001b[0m \u001b[0mValueError\u001b[0m\u001b[1;33m(\u001b[0m\u001b[1;34m\"%s is not supported\"\u001b[0m \u001b[1;33m%\u001b[0m \u001b[0my_type\u001b[0m\u001b[1;33m)\u001b[0m\u001b[1;33m\u001b[0m\u001b[1;33m\u001b[0m\u001b[0m\n",
      "\u001b[1;32m~\\anaconda3\\lib\\site-packages\\sklearn\\metrics\\_classification.py\u001b[0m in \u001b[0;36m_check_targets\u001b[1;34m(y_true, y_pred)\u001b[0m\n\u001b[0;32m     90\u001b[0m \u001b[1;33m\u001b[0m\u001b[0m\n\u001b[0;32m     91\u001b[0m     \u001b[1;32mif\u001b[0m \u001b[0mlen\u001b[0m\u001b[1;33m(\u001b[0m\u001b[0my_type\u001b[0m\u001b[1;33m)\u001b[0m \u001b[1;33m>\u001b[0m \u001b[1;36m1\u001b[0m\u001b[1;33m:\u001b[0m\u001b[1;33m\u001b[0m\u001b[1;33m\u001b[0m\u001b[0m\n\u001b[1;32m---> 92\u001b[1;33m         raise ValueError(\"Classification metrics can't handle a mix of {0} \"\n\u001b[0m\u001b[0;32m     93\u001b[0m                          \"and {1} targets\".format(type_true, type_pred))\n\u001b[0;32m     94\u001b[0m \u001b[1;33m\u001b[0m\u001b[0m\n",
      "\u001b[1;31mValueError\u001b[0m: Classification metrics can't handle a mix of multiclass and continuous-multioutput targets"
     ]
    }
   ],
   "source": [
    "confusion_matrix(y_test.argmax(axis=1),predictions)"
   ]
  },
  {
   "cell_type": "code",
   "execution_count": null,
   "id": "3b82bcc0",
   "metadata": {},
   "outputs": [],
   "source": []
  }
 ],
 "metadata": {
  "kernelspec": {
   "display_name": "Python 3",
   "language": "python",
   "name": "python3"
  },
  "language_info": {
   "codemirror_mode": {
    "name": "ipython",
    "version": 3
   },
   "file_extension": ".py",
   "mimetype": "text/x-python",
   "name": "python",
   "nbconvert_exporter": "python",
   "pygments_lexer": "ipython3",
   "version": "3.8.8"
  }
 },
 "nbformat": 4,
 "nbformat_minor": 5
}
