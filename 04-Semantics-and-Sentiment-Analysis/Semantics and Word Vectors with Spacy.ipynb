{
 "cells": [
  {
   "cell_type": "code",
   "execution_count": 1,
   "id": "152fa09d",
   "metadata": {},
   "outputs": [],
   "source": [
    "import spacy"
   ]
  },
  {
   "cell_type": "code",
   "execution_count": 2,
   "id": "9043cdf5",
   "metadata": {},
   "outputs": [],
   "source": [
    "nlp = spacy.load('en_core_web_lg')"
   ]
  },
  {
   "cell_type": "code",
   "execution_count": 4,
   "id": "8884daa0",
   "metadata": {},
   "outputs": [
    {
     "data": {
      "text/plain": [
       "(300,)"
      ]
     },
     "execution_count": 4,
     "metadata": {},
     "output_type": "execute_result"
    }
   ],
   "source": [
    "# So what does a word vector look like? Since spaCy employs 300 dimensions, word vectors are stored as 300-item arrays\n",
    "\n",
    "nlp(u'lion').vector.shape"
   ]
  },
  {
   "cell_type": "code",
   "execution_count": 5,
   "id": "53bba398",
   "metadata": {},
   "outputs": [
    {
     "data": {
      "text/plain": [
       "(300,)"
      ]
     },
     "execution_count": 5,
     "metadata": {},
     "output_type": "execute_result"
    }
   ],
   "source": [
    "nlp(u'The quick brown fox jumped').vector.shape"
   ]
  },
  {
   "cell_type": "code",
   "execution_count": 6,
   "id": "70e7b6a6",
   "metadata": {},
   "outputs": [],
   "source": [
    "tokens = nlp(u'lion cat pet')"
   ]
  },
  {
   "cell_type": "code",
   "execution_count": 7,
   "id": "66350e86",
   "metadata": {},
   "outputs": [
    {
     "name": "stdout",
     "output_type": "stream",
     "text": [
      "lion lion 1.0\n",
      "lion cat 0.52654374\n",
      "lion pet 0.39923766\n",
      "cat lion 0.52654374\n",
      "cat cat 1.0\n",
      "cat pet 0.7505456\n",
      "pet lion 0.39923766\n",
      "pet cat 0.7505456\n",
      "pet pet 1.0\n"
     ]
    }
   ],
   "source": [
    "# Check the cosine similarity between words 1 and 2\n",
    "\n",
    "for token1 in tokens:\n",
    "    for token2 in tokens:\n",
    "        print(token1.text,token2.text, token1.similarity(token2))"
   ]
  },
  {
   "cell_type": "code",
   "execution_count": 32,
   "id": "f22eb749",
   "metadata": {},
   "outputs": [
    {
     "data": {
      "text/plain": [
       "684830"
      ]
     },
     "execution_count": 32,
     "metadata": {},
     "output_type": "execute_result"
    }
   ],
   "source": [
    "len(nlp.vocab.vectors)"
   ]
  },
  {
   "cell_type": "code",
   "execution_count": 9,
   "id": "44794c82",
   "metadata": {},
   "outputs": [],
   "source": [
    "tokens = nlp(u'dog cat nargle')"
   ]
  },
  {
   "cell_type": "code",
   "execution_count": 10,
   "id": "25214377",
   "metadata": {},
   "outputs": [
    {
     "name": "stdout",
     "output_type": "stream",
     "text": [
      "dog True 7.0336733 False\n",
      "cat True 6.6808186 False\n",
      "nargle False 0.0 True\n"
     ]
    }
   ],
   "source": [
    "for token in tokens:\n",
    "    print(token.text, token.has_vector,token.vector_norm,token.is_oov)"
   ]
  },
  {
   "cell_type": "code",
   "execution_count": 11,
   "id": "530becf0",
   "metadata": {},
   "outputs": [],
   "source": [
    "from scipy import spatial\n",
    "\n",
    "cosine_similarity = lambda vec1,vec2: 1 - spatial.distance.cosine(vec1,vec2)"
   ]
  },
  {
   "cell_type": "code",
   "execution_count": 12,
   "id": "24e02235",
   "metadata": {},
   "outputs": [],
   "source": [
    "king = nlp.vocab['king'].vector\n",
    "man = nlp.vocab['man'].vector\n",
    "woman = nlp.vocab['woman'].vector"
   ]
  },
  {
   "cell_type": "code",
   "execution_count": 13,
   "id": "7a85a5f0",
   "metadata": {},
   "outputs": [],
   "source": [
    "# king - man + woman => new vector similar queen, princess, highness\n",
    "\n",
    "new_vector = king-man+woman"
   ]
  },
  {
   "cell_type": "code",
   "execution_count": 29,
   "id": "bf8aad9c",
   "metadata": {},
   "outputs": [],
   "source": [
    "computed_similarities = []"
   ]
  },
  {
   "cell_type": "code",
   "execution_count": 31,
   "id": "40ea8f95",
   "metadata": {},
   "outputs": [],
   "source": [
    "computed_similarities = []\n",
    "\n",
    "for word in nlp.vocab:\n",
    "    if word.has_vector:\n",
    "        if word.is_lower:\n",
    "            if word.is_alpha:\n",
    "                similarity = cosine_similarity(new_vector,word.vector)\n",
    "                computed_similarities.append((word,similarity))"
   ]
  },
  {
   "cell_type": "code",
   "execution_count": 33,
   "id": "25aa40fb",
   "metadata": {},
   "outputs": [],
   "source": [
    "computed_similarities = sorted(computed_similarities,key=lambda item:-item[1])"
   ]
  },
  {
   "cell_type": "code",
   "execution_count": 34,
   "id": "ab11a41d",
   "metadata": {},
   "outputs": [
    {
     "name": "stdout",
     "output_type": "stream",
     "text": [
      "['king', 'woman', 'she', 'lion', 'who', 'fox', 'brown', 'when', 'dare', 'cat']\n"
     ]
    }
   ],
   "source": [
    "print([t[0].text for t in computed_similarities[:10]])"
   ]
  },
  {
   "cell_type": "code",
   "execution_count": 36,
   "id": "e9abcc78",
   "metadata": {},
   "outputs": [],
   "source": [
    "lamp = nlp.vocab['lamp'].vector\n",
    "desk = nlp.vocab['desk'].vector\n",
    "door = nlp.vocab['door'].vector"
   ]
  },
  {
   "cell_type": "code",
   "execution_count": 37,
   "id": "88cbfeac",
   "metadata": {},
   "outputs": [],
   "source": [
    "new_vector = lamp-desk+door"
   ]
  },
  {
   "cell_type": "code",
   "execution_count": 38,
   "id": "c373071c",
   "metadata": {},
   "outputs": [],
   "source": [
    "computed_similarities = []\n",
    "\n",
    "for word in nlp.vocab:\n",
    "    if word.has_vector:\n",
    "        if word.is_lower:\n",
    "            if word.is_alpha:\n",
    "                similarity = cosine_similarity(new_vector,word.vector)\n",
    "                computed_similarities.append((word,similarity))"
   ]
  },
  {
   "cell_type": "code",
   "execution_count": 39,
   "id": "236cb983",
   "metadata": {},
   "outputs": [],
   "source": [
    "computed_similarities = sorted(computed_similarities,key=lambda item:-item[1])"
   ]
  },
  {
   "cell_type": "code",
   "execution_count": 40,
   "id": "a3796355",
   "metadata": {},
   "outputs": [
    {
     "name": "stdout",
     "output_type": "stream",
     "text": [
      "['lamp', 'door', 'when', 'man', 'cat', 'it', 'where', 'that', 'we', 'is']\n"
     ]
    }
   ],
   "source": [
    "print([t[0].text for t in computed_similarities[:10]])"
   ]
  },
  {
   "cell_type": "code",
   "execution_count": null,
   "id": "226388ca",
   "metadata": {},
   "outputs": [],
   "source": []
  }
 ],
 "metadata": {
  "kernelspec": {
   "display_name": "Python 3",
   "language": "python",
   "name": "python3"
  },
  "language_info": {
   "codemirror_mode": {
    "name": "ipython",
    "version": 3
   },
   "file_extension": ".py",
   "mimetype": "text/x-python",
   "name": "python",
   "nbconvert_exporter": "python",
   "pygments_lexer": "ipython3",
   "version": "3.8.8"
  }
 },
 "nbformat": 4,
 "nbformat_minor": 5
}
